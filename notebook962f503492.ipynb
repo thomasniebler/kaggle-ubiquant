{
 "cells": [
  {
   "cell_type": "code",
   "execution_count": 1,
   "id": "5bd8f26e",
   "metadata": {
    "_cell_guid": "b1076dfc-b9ad-4769-8c92-a6c4dae69d19",
    "_uuid": "8f2839f25d086af736a60e9eeb907d3b93b6e0e5",
    "execution": {
     "iopub.execute_input": "2022-01-22T17:48:05.892231Z",
     "iopub.status.busy": "2022-01-22T17:48:05.890993Z",
     "iopub.status.idle": "2022-01-22T17:48:05.910976Z",
     "shell.execute_reply": "2022-01-22T17:48:05.911676Z",
     "shell.execute_reply.started": "2022-01-22T17:41:03.665071Z"
    },
    "papermill": {
     "duration": 0.044005,
     "end_time": "2022-01-22T17:48:05.912081",
     "exception": false,
     "start_time": "2022-01-22T17:48:05.868076",
     "status": "completed"
    },
    "tags": []
   },
   "outputs": [
    {
     "name": "stdout",
     "output_type": "stream",
     "text": [
      "/kaggle/input/ubiquant-market-prediction/example_sample_submission.csv\n",
      "/kaggle/input/ubiquant-market-prediction/example_test.csv\n",
      "/kaggle/input/ubiquant-market-prediction/train.csv\n",
      "/kaggle/input/ubiquant-market-prediction/ubiquant/competition.cpython-37m-x86_64-linux-gnu.so\n",
      "/kaggle/input/ubiquant-market-prediction/ubiquant/__init__.py\n"
     ]
    }
   ],
   "source": [
    "# This Python 3 environment comes with many helpful analytics libraries installed\n",
    "# It is defined by the kaggle/python Docker image: https://github.com/kaggle/docker-python\n",
    "# For example, here's several helpful packages to load\n",
    "\n",
    "import numpy as np # linear algebra\n",
    "import pandas as pd # data processing, CSV file I/O (e.g. pd.read_csv)\n",
    "\n",
    "# Input data files are available in the read-only \"../input/\" directory\n",
    "# For example, running this (by clicking run or pressing Shift+Enter) will list all files under the input directory\n",
    "\n",
    "import os\n",
    "for dirname, _, filenames in os.walk('/kaggle/input'):\n",
    "    for filename in filenames:\n",
    "        print(os.path.join(dirname, filename))\n",
    "\n",
    "# You can write up to 20GB to the current directory (/kaggle/working/) that gets preserved as output when you create a version using \"Save & Run All\" \n",
    "# You can also write temporary files to /kaggle/temp/, but they won't be saved outside of the current session"
   ]
  },
  {
   "cell_type": "code",
   "execution_count": 2,
   "id": "0e48d520",
   "metadata": {
    "execution": {
     "iopub.execute_input": "2022-01-22T17:48:05.952392Z",
     "iopub.status.busy": "2022-01-22T17:48:05.951720Z",
     "iopub.status.idle": "2022-01-22T17:48:05.976805Z",
     "shell.execute_reply": "2022-01-22T17:48:05.976125Z",
     "shell.execute_reply.started": "2022-01-22T17:41:06.378187Z"
    },
    "papermill": {
     "duration": 0.045866,
     "end_time": "2022-01-22T17:48:05.976993",
     "exception": false,
     "start_time": "2022-01-22T17:48:05.931127",
     "status": "completed"
    },
    "tags": []
   },
   "outputs": [],
   "source": [
    "import ubiquant\n",
    "env = ubiquant.make_env()   # initialize the environment\n",
    "iter_test = env.iter_test()    # an iterator which loops over the test set and sample submission"
   ]
  },
  {
   "cell_type": "code",
   "execution_count": 3,
   "id": "2a83d07c",
   "metadata": {
    "execution": {
     "iopub.execute_input": "2022-01-22T17:48:06.019402Z",
     "iopub.status.busy": "2022-01-22T17:48:06.018390Z",
     "iopub.status.idle": "2022-01-22T17:48:06.142082Z",
     "shell.execute_reply": "2022-01-22T17:48:06.141487Z",
     "shell.execute_reply.started": "2022-01-22T17:41:06.659410Z"
    },
    "papermill": {
     "duration": 0.145225,
     "end_time": "2022-01-22T17:48:06.142256",
     "exception": false,
     "start_time": "2022-01-22T17:48:05.997031",
     "status": "completed"
    },
    "tags": []
   },
   "outputs": [
    {
     "name": "stdout",
     "output_type": "stream",
     "text": [
      "This version of the API is not optimized and should not be used to estimate the runtime of your code on the hidden test set.\n",
      "   row_id  investment_id       f_0       f_1       f_2       f_3       f_4  \\\n",
      "0  1220_1              1  0.874944  0.457875  0.962572  0.372061  0.004509   \n",
      "1  1220_2              2  0.554862  0.445478  0.714034  0.891988  0.703331   \n",
      "\n",
      "        f_5       f_6       f_7  ...     f_290     f_291     f_292     f_293  \\\n",
      "0  0.971304  0.097477  0.246080  ...  0.514031  0.828523  0.437697  0.810764   \n",
      "1  0.264478  0.600636  0.697096  ...  0.620919  0.301540  0.687464  0.400168   \n",
      "\n",
      "      f_294     f_295     f_296     f_297     f_298     f_299  \n",
      "0  0.693963  0.186403  0.569144  0.120386  0.419603  0.936966  \n",
      "1  0.908198  0.272901  0.222430  0.748324  0.858802  0.362829  \n",
      "\n",
      "[2 rows x 302 columns]\n",
      "   row_id  investment_id       f_0       f_1       f_2       f_3       f_4  \\\n",
      "0  1221_0              0  0.175070  0.918464  0.044379  0.505868  0.037160   \n",
      "1  1221_1              1  0.355239  0.689773  0.452643  0.134863  0.794958   \n",
      "2  1221_2              2  0.912778  0.462684  0.454067  0.491009  0.050547   \n",
      "\n",
      "        f_5       f_6       f_7  ...     f_290     f_291     f_292     f_293  \\\n",
      "0  0.169001  0.211365  0.791252  ...  0.397710  0.789382  0.238078  0.254068   \n",
      "1  0.837197  0.036773  0.713466  ...  0.893571  0.322879  0.674692  0.114160   \n",
      "2  0.250051  0.686295  0.666958  ...  0.031662  0.703427  0.861476  0.897927   \n",
      "\n",
      "      f_294     f_295     f_296     f_297     f_298     f_299  \n",
      "0  0.795084  0.491928  0.376725  0.079489  0.995041  0.482283  \n",
      "1  0.818483  0.287065  0.710537  0.550434  0.899869  0.928997  \n",
      "2  0.659051  0.356148  0.375990  0.209798  0.175153  0.727160  \n",
      "\n",
      "[3 rows x 302 columns]\n",
      "   row_id  investment_id       f_0       f_1       f_2       f_3       f_4  \\\n",
      "0  1222_0              0  0.678116  0.158996  0.058148  0.253677  0.984982   \n",
      "1  1222_1              1  0.769912  0.060028  0.676047  0.853550  0.411155   \n",
      "2  1222_2              2  0.738876  0.980038  0.696796  0.591012  0.882052   \n",
      "\n",
      "        f_5       f_6       f_7  ...     f_290     f_291     f_292     f_293  \\\n",
      "0  0.323493  0.307990  0.683907  ...  0.439604  0.487491  0.080697  0.539750   \n",
      "1  0.747515  0.649063  0.628536  ...  0.419152  0.659254  0.198072  0.655397   \n",
      "2  0.311484  0.729229  0.516416  ...  0.341144  0.758328  0.010728  0.276859   \n",
      "\n",
      "      f_294     f_295     f_296     f_297     f_298     f_299  \n",
      "0  0.246645  0.435054  0.436709  0.315042  0.133657  0.731483  \n",
      "1  0.428209  0.769999  0.960219  0.734675  0.028576  0.320976  \n",
      "2  0.979913  0.486605  0.670140  0.515824  0.580929  0.139308  \n",
      "\n",
      "[3 rows x 302 columns]\n",
      "   row_id  investment_id       f_0       f_1       f_2       f_3       f_4  \\\n",
      "0  1223_0              0  0.281445  0.571472  0.986828  0.021403  0.789577   \n",
      "\n",
      "        f_5       f_6    f_7  ...     f_290     f_291    f_292     f_293  \\\n",
      "0  0.005765  0.409379  0.952  ...  0.357828  0.000019  0.50453  0.169174   \n",
      "\n",
      "      f_294     f_295     f_296     f_297     f_298     f_299  \n",
      "0  0.216349  0.503643  0.052721  0.795965  0.909602  0.291668  \n",
      "\n",
      "[1 rows x 302 columns]\n"
     ]
    }
   ],
   "source": [
    "for (test_df, sample_prediction_df) in iter_test:\n",
    "    print(test_df)\n",
    "    sample_prediction_df['target'] = 0  # make your predictions here\n",
    "    env.predict(sample_prediction_df)   # register your predictions"
   ]
  },
  {
   "cell_type": "markdown",
   "id": "3c76defe",
   "metadata": {
    "papermill": {
     "duration": 0.018356,
     "end_time": "2022-01-22T17:48:06.179381",
     "exception": false,
     "start_time": "2022-01-22T17:48:06.161025",
     "status": "completed"
    },
    "tags": []
   },
   "source": [
    "* In this competition, you’ll build a model that forecasts an investment's *return rate*.\n",
    "* Top entries will solve this real-world data science problem with as much *accuracy* as possible."
   ]
  },
  {
   "cell_type": "markdown",
   "id": "60a50279",
   "metadata": {
    "papermill": {
     "duration": 0.018374,
     "end_time": "2022-01-22T17:48:06.217493",
     "exception": false,
     "start_time": "2022-01-22T17:48:06.199119",
     "status": "completed"
    },
    "tags": []
   },
   "source": []
  },
  {
   "cell_type": "code",
   "execution_count": 4,
   "id": "b1f2b735",
   "metadata": {
    "execution": {
     "iopub.execute_input": "2022-01-22T17:48:06.261120Z",
     "iopub.status.busy": "2022-01-22T17:48:06.260453Z",
     "iopub.status.idle": "2022-01-22T17:48:07.755326Z",
     "shell.execute_reply": "2022-01-22T17:48:07.754698Z",
     "shell.execute_reply.started": "2022-01-22T17:41:19.795600Z"
    },
    "papermill": {
     "duration": 1.519307,
     "end_time": "2022-01-22T17:48:07.755489",
     "exception": false,
     "start_time": "2022-01-22T17:48:06.236182",
     "status": "completed"
    },
    "tags": []
   },
   "outputs": [],
   "source": [
    "train_data = pd.read_csv(\"/kaggle/input/ubiquant-market-prediction/train.csv\", header=0, nrows=10000, index_col=\"row_id\")"
   ]
  },
  {
   "cell_type": "code",
   "execution_count": 5,
   "id": "5ddb3318",
   "metadata": {
    "execution": {
     "iopub.execute_input": "2022-01-22T17:48:07.812747Z",
     "iopub.status.busy": "2022-01-22T17:48:07.807494Z",
     "iopub.status.idle": "2022-01-22T17:48:07.829519Z",
     "shell.execute_reply": "2022-01-22T17:48:07.828899Z",
     "shell.execute_reply.started": "2022-01-22T17:41:21.526939Z"
    },
    "papermill": {
     "duration": 0.05506,
     "end_time": "2022-01-22T17:48:07.829682",
     "exception": false,
     "start_time": "2022-01-22T17:48:07.774622",
     "status": "completed"
    },
    "tags": []
   },
   "outputs": [
    {
     "data": {
      "text/html": [
       "<div>\n",
       "<style scoped>\n",
       "    .dataframe tbody tr th:only-of-type {\n",
       "        vertical-align: middle;\n",
       "    }\n",
       "\n",
       "    .dataframe tbody tr th {\n",
       "        vertical-align: top;\n",
       "    }\n",
       "\n",
       "    .dataframe thead th {\n",
       "        text-align: right;\n",
       "    }\n",
       "</style>\n",
       "<table border=\"1\" class=\"dataframe\">\n",
       "  <thead>\n",
       "    <tr style=\"text-align: right;\">\n",
       "      <th></th>\n",
       "      <th>time_id</th>\n",
       "      <th>investment_id</th>\n",
       "      <th>target</th>\n",
       "      <th>f_0</th>\n",
       "      <th>f_1</th>\n",
       "      <th>f_2</th>\n",
       "      <th>f_3</th>\n",
       "      <th>f_4</th>\n",
       "      <th>f_5</th>\n",
       "      <th>f_6</th>\n",
       "      <th>...</th>\n",
       "      <th>f_290</th>\n",
       "      <th>f_291</th>\n",
       "      <th>f_292</th>\n",
       "      <th>f_293</th>\n",
       "      <th>f_294</th>\n",
       "      <th>f_295</th>\n",
       "      <th>f_296</th>\n",
       "      <th>f_297</th>\n",
       "      <th>f_298</th>\n",
       "      <th>f_299</th>\n",
       "    </tr>\n",
       "    <tr>\n",
       "      <th>row_id</th>\n",
       "      <th></th>\n",
       "      <th></th>\n",
       "      <th></th>\n",
       "      <th></th>\n",
       "      <th></th>\n",
       "      <th></th>\n",
       "      <th></th>\n",
       "      <th></th>\n",
       "      <th></th>\n",
       "      <th></th>\n",
       "      <th></th>\n",
       "      <th></th>\n",
       "      <th></th>\n",
       "      <th></th>\n",
       "      <th></th>\n",
       "      <th></th>\n",
       "      <th></th>\n",
       "      <th></th>\n",
       "      <th></th>\n",
       "      <th></th>\n",
       "      <th></th>\n",
       "    </tr>\n",
       "  </thead>\n",
       "  <tbody>\n",
       "    <tr>\n",
       "      <th>0_1</th>\n",
       "      <td>0</td>\n",
       "      <td>1</td>\n",
       "      <td>-0.300875</td>\n",
       "      <td>0.932573</td>\n",
       "      <td>0.113691</td>\n",
       "      <td>-0.402206</td>\n",
       "      <td>0.378386</td>\n",
       "      <td>-0.203938</td>\n",
       "      <td>-0.413469</td>\n",
       "      <td>0.965623</td>\n",
       "      <td>...</td>\n",
       "      <td>0.366028</td>\n",
       "      <td>-1.095620</td>\n",
       "      <td>0.200075</td>\n",
       "      <td>0.819155</td>\n",
       "      <td>0.941183</td>\n",
       "      <td>-0.086764</td>\n",
       "      <td>-1.087009</td>\n",
       "      <td>-1.044826</td>\n",
       "      <td>-0.287605</td>\n",
       "      <td>0.321566</td>\n",
       "    </tr>\n",
       "    <tr>\n",
       "      <th>0_2</th>\n",
       "      <td>0</td>\n",
       "      <td>2</td>\n",
       "      <td>-0.231040</td>\n",
       "      <td>0.810802</td>\n",
       "      <td>-0.514115</td>\n",
       "      <td>0.742368</td>\n",
       "      <td>-0.616673</td>\n",
       "      <td>-0.194255</td>\n",
       "      <td>1.771210</td>\n",
       "      <td>1.428127</td>\n",
       "      <td>...</td>\n",
       "      <td>-0.154193</td>\n",
       "      <td>0.912726</td>\n",
       "      <td>-0.734579</td>\n",
       "      <td>0.819155</td>\n",
       "      <td>0.941183</td>\n",
       "      <td>-0.387617</td>\n",
       "      <td>-1.087009</td>\n",
       "      <td>-0.929529</td>\n",
       "      <td>-0.974060</td>\n",
       "      <td>-0.343624</td>\n",
       "    </tr>\n",
       "    <tr>\n",
       "      <th>0_6</th>\n",
       "      <td>0</td>\n",
       "      <td>6</td>\n",
       "      <td>0.568807</td>\n",
       "      <td>0.393974</td>\n",
       "      <td>0.615937</td>\n",
       "      <td>0.567806</td>\n",
       "      <td>-0.607963</td>\n",
       "      <td>0.068883</td>\n",
       "      <td>-1.083155</td>\n",
       "      <td>0.979656</td>\n",
       "      <td>...</td>\n",
       "      <td>-0.138020</td>\n",
       "      <td>0.912726</td>\n",
       "      <td>-0.551904</td>\n",
       "      <td>-1.220772</td>\n",
       "      <td>-1.060166</td>\n",
       "      <td>-0.219097</td>\n",
       "      <td>-1.087009</td>\n",
       "      <td>-0.612428</td>\n",
       "      <td>-0.113944</td>\n",
       "      <td>0.243608</td>\n",
       "    </tr>\n",
       "    <tr>\n",
       "      <th>0_7</th>\n",
       "      <td>0</td>\n",
       "      <td>7</td>\n",
       "      <td>-1.064780</td>\n",
       "      <td>-2.343535</td>\n",
       "      <td>-0.011870</td>\n",
       "      <td>1.874606</td>\n",
       "      <td>-0.606346</td>\n",
       "      <td>-0.586827</td>\n",
       "      <td>-0.815737</td>\n",
       "      <td>0.778096</td>\n",
       "      <td>...</td>\n",
       "      <td>0.382201</td>\n",
       "      <td>0.912726</td>\n",
       "      <td>-0.266359</td>\n",
       "      <td>-1.220772</td>\n",
       "      <td>0.941183</td>\n",
       "      <td>-0.609113</td>\n",
       "      <td>0.104928</td>\n",
       "      <td>-0.783423</td>\n",
       "      <td>1.151730</td>\n",
       "      <td>-0.773309</td>\n",
       "    </tr>\n",
       "    <tr>\n",
       "      <th>0_8</th>\n",
       "      <td>0</td>\n",
       "      <td>8</td>\n",
       "      <td>-0.531940</td>\n",
       "      <td>0.842057</td>\n",
       "      <td>-0.262993</td>\n",
       "      <td>2.330030</td>\n",
       "      <td>-0.583422</td>\n",
       "      <td>-0.618392</td>\n",
       "      <td>-0.742814</td>\n",
       "      <td>-0.946789</td>\n",
       "      <td>...</td>\n",
       "      <td>-0.170365</td>\n",
       "      <td>0.912726</td>\n",
       "      <td>-0.741355</td>\n",
       "      <td>-1.220772</td>\n",
       "      <td>0.941183</td>\n",
       "      <td>-0.588445</td>\n",
       "      <td>0.104928</td>\n",
       "      <td>0.753279</td>\n",
       "      <td>1.345611</td>\n",
       "      <td>-0.737624</td>\n",
       "    </tr>\n",
       "  </tbody>\n",
       "</table>\n",
       "<p>5 rows × 303 columns</p>\n",
       "</div>"
      ],
      "text/plain": [
       "        time_id  investment_id    target       f_0       f_1       f_2  \\\n",
       "row_id                                                                   \n",
       "0_1           0              1 -0.300875  0.932573  0.113691 -0.402206   \n",
       "0_2           0              2 -0.231040  0.810802 -0.514115  0.742368   \n",
       "0_6           0              6  0.568807  0.393974  0.615937  0.567806   \n",
       "0_7           0              7 -1.064780 -2.343535 -0.011870  1.874606   \n",
       "0_8           0              8 -0.531940  0.842057 -0.262993  2.330030   \n",
       "\n",
       "             f_3       f_4       f_5       f_6  ...     f_290     f_291  \\\n",
       "row_id                                          ...                       \n",
       "0_1     0.378386 -0.203938 -0.413469  0.965623  ...  0.366028 -1.095620   \n",
       "0_2    -0.616673 -0.194255  1.771210  1.428127  ... -0.154193  0.912726   \n",
       "0_6    -0.607963  0.068883 -1.083155  0.979656  ... -0.138020  0.912726   \n",
       "0_7    -0.606346 -0.586827 -0.815737  0.778096  ...  0.382201  0.912726   \n",
       "0_8    -0.583422 -0.618392 -0.742814 -0.946789  ... -0.170365  0.912726   \n",
       "\n",
       "           f_292     f_293     f_294     f_295     f_296     f_297     f_298  \\\n",
       "row_id                                                                         \n",
       "0_1     0.200075  0.819155  0.941183 -0.086764 -1.087009 -1.044826 -0.287605   \n",
       "0_2    -0.734579  0.819155  0.941183 -0.387617 -1.087009 -0.929529 -0.974060   \n",
       "0_6    -0.551904 -1.220772 -1.060166 -0.219097 -1.087009 -0.612428 -0.113944   \n",
       "0_7    -0.266359 -1.220772  0.941183 -0.609113  0.104928 -0.783423  1.151730   \n",
       "0_8    -0.741355 -1.220772  0.941183 -0.588445  0.104928  0.753279  1.345611   \n",
       "\n",
       "           f_299  \n",
       "row_id            \n",
       "0_1     0.321566  \n",
       "0_2    -0.343624  \n",
       "0_6     0.243608  \n",
       "0_7    -0.773309  \n",
       "0_8    -0.737624  \n",
       "\n",
       "[5 rows x 303 columns]"
      ]
     },
     "execution_count": 5,
     "metadata": {},
     "output_type": "execute_result"
    }
   ],
   "source": [
    "train_data.head()"
   ]
  },
  {
   "cell_type": "code",
   "execution_count": 6,
   "id": "25c22150",
   "metadata": {
    "execution": {
     "iopub.execute_input": "2022-01-22T17:48:07.877477Z",
     "iopub.status.busy": "2022-01-22T17:48:07.874254Z",
     "iopub.status.idle": "2022-01-22T17:48:07.880347Z",
     "shell.execute_reply": "2022-01-22T17:48:07.879867Z",
     "shell.execute_reply.started": "2022-01-22T17:41:21.557665Z"
    },
    "papermill": {
     "duration": 0.031452,
     "end_time": "2022-01-22T17:48:07.880483",
     "exception": false,
     "start_time": "2022-01-22T17:48:07.849031",
     "status": "completed"
    },
    "tags": []
   },
   "outputs": [],
   "source": [
    "train_data_timeid0 = train_data[train_data[\"time_id\"] == 0]"
   ]
  },
  {
   "cell_type": "code",
   "execution_count": 7,
   "id": "d381b959",
   "metadata": {
    "execution": {
     "iopub.execute_input": "2022-01-22T17:48:07.926865Z",
     "iopub.status.busy": "2022-01-22T17:48:07.926168Z",
     "iopub.status.idle": "2022-01-22T17:48:07.930815Z",
     "shell.execute_reply": "2022-01-22T17:48:07.930159Z",
     "shell.execute_reply.started": "2022-01-22T17:41:21.567852Z"
    },
    "papermill": {
     "duration": 0.031034,
     "end_time": "2022-01-22T17:48:07.930958",
     "exception": false,
     "start_time": "2022-01-22T17:48:07.899924",
     "status": "completed"
    },
    "tags": []
   },
   "outputs": [
    {
     "data": {
      "text/plain": [
       "2272"
      ]
     },
     "execution_count": 7,
     "metadata": {},
     "output_type": "execute_result"
    }
   ],
   "source": [
    "len(train_data_timeid0)"
   ]
  },
  {
   "cell_type": "code",
   "execution_count": 8,
   "id": "8f0ddea8",
   "metadata": {
    "execution": {
     "iopub.execute_input": "2022-01-22T17:48:07.982983Z",
     "iopub.status.busy": "2022-01-22T17:48:07.982308Z",
     "iopub.status.idle": "2022-01-22T17:48:08.695909Z",
     "shell.execute_reply": "2022-01-22T17:48:08.696371Z",
     "shell.execute_reply.started": "2022-01-22T17:41:21.574587Z"
    },
    "papermill": {
     "duration": 0.745867,
     "end_time": "2022-01-22T17:48:08.696544",
     "exception": false,
     "start_time": "2022-01-22T17:48:07.950677",
     "status": "completed"
    },
    "tags": []
   },
   "outputs": [
    {
     "data": {
      "text/html": [
       "<div>\n",
       "<style scoped>\n",
       "    .dataframe tbody tr th:only-of-type {\n",
       "        vertical-align: middle;\n",
       "    }\n",
       "\n",
       "    .dataframe tbody tr th {\n",
       "        vertical-align: top;\n",
       "    }\n",
       "\n",
       "    .dataframe thead th {\n",
       "        text-align: right;\n",
       "    }\n",
       "</style>\n",
       "<table border=\"1\" class=\"dataframe\">\n",
       "  <thead>\n",
       "    <tr style=\"text-align: right;\">\n",
       "      <th></th>\n",
       "      <th>time_id</th>\n",
       "      <th>investment_id</th>\n",
       "      <th>target</th>\n",
       "      <th>f_0</th>\n",
       "      <th>f_1</th>\n",
       "      <th>f_2</th>\n",
       "      <th>f_3</th>\n",
       "      <th>f_4</th>\n",
       "      <th>f_5</th>\n",
       "      <th>f_6</th>\n",
       "      <th>...</th>\n",
       "      <th>f_290</th>\n",
       "      <th>f_291</th>\n",
       "      <th>f_292</th>\n",
       "      <th>f_293</th>\n",
       "      <th>f_294</th>\n",
       "      <th>f_295</th>\n",
       "      <th>f_296</th>\n",
       "      <th>f_297</th>\n",
       "      <th>f_298</th>\n",
       "      <th>f_299</th>\n",
       "    </tr>\n",
       "  </thead>\n",
       "  <tbody>\n",
       "    <tr>\n",
       "      <th>count</th>\n",
       "      <td>2272.0</td>\n",
       "      <td>2272.000000</td>\n",
       "      <td>2272.000000</td>\n",
       "      <td>2272.000000</td>\n",
       "      <td>2272.000000</td>\n",
       "      <td>2272.000000</td>\n",
       "      <td>2272.000000</td>\n",
       "      <td>2272.000000</td>\n",
       "      <td>2272.000000</td>\n",
       "      <td>2272.000000</td>\n",
       "      <td>...</td>\n",
       "      <td>2272.000000</td>\n",
       "      <td>2272.000000</td>\n",
       "      <td>2272.000000</td>\n",
       "      <td>2272.000000</td>\n",
       "      <td>2272.000000</td>\n",
       "      <td>2272.000000</td>\n",
       "      <td>2272.000000</td>\n",
       "      <td>2272.000000</td>\n",
       "      <td>2272.000000</td>\n",
       "      <td>2272.000000</td>\n",
       "    </tr>\n",
       "    <tr>\n",
       "      <th>mean</th>\n",
       "      <td>0.0</td>\n",
       "      <td>1869.228873</td>\n",
       "      <td>-0.036879</td>\n",
       "      <td>-0.000384</td>\n",
       "      <td>-0.014136</td>\n",
       "      <td>0.011063</td>\n",
       "      <td>-0.018266</td>\n",
       "      <td>-0.001832</td>\n",
       "      <td>-0.003481</td>\n",
       "      <td>-0.006037</td>\n",
       "      <td>...</td>\n",
       "      <td>0.008712</td>\n",
       "      <td>-0.002167</td>\n",
       "      <td>-0.013043</td>\n",
       "      <td>-0.006871</td>\n",
       "      <td>0.001719</td>\n",
       "      <td>-0.019087</td>\n",
       "      <td>0.000528</td>\n",
       "      <td>-0.000938</td>\n",
       "      <td>-0.008388</td>\n",
       "      <td>-0.003732</td>\n",
       "    </tr>\n",
       "    <tr>\n",
       "      <th>std</th>\n",
       "      <td>0.0</td>\n",
       "      <td>1078.312362</td>\n",
       "      <td>0.923651</td>\n",
       "      <td>0.987634</td>\n",
       "      <td>0.992491</td>\n",
       "      <td>0.997750</td>\n",
       "      <td>0.940292</td>\n",
       "      <td>1.002012</td>\n",
       "      <td>0.993788</td>\n",
       "      <td>0.995930</td>\n",
       "      <td>...</td>\n",
       "      <td>0.985672</td>\n",
       "      <td>1.000417</td>\n",
       "      <td>0.980962</td>\n",
       "      <td>1.001577</td>\n",
       "      <td>0.999911</td>\n",
       "      <td>0.906861</td>\n",
       "      <td>1.000962</td>\n",
       "      <td>0.996867</td>\n",
       "      <td>0.986711</td>\n",
       "      <td>0.988941</td>\n",
       "    </tr>\n",
       "    <tr>\n",
       "      <th>min</th>\n",
       "      <td>0.0</td>\n",
       "      <td>1.000000</td>\n",
       "      <td>-3.464680</td>\n",
       "      <td>-5.828757</td>\n",
       "      <td>-3.025342</td>\n",
       "      <td>-1.994951</td>\n",
       "      <td>-0.688007</td>\n",
       "      <td>-0.678721</td>\n",
       "      <td>-2.553895</td>\n",
       "      <td>-2.318264</td>\n",
       "      <td>...</td>\n",
       "      <td>-4.073376</td>\n",
       "      <td>-1.095620</td>\n",
       "      <td>-1.394697</td>\n",
       "      <td>-1.220772</td>\n",
       "      <td>-1.477153</td>\n",
       "      <td>-0.743562</td>\n",
       "      <td>-1.087009</td>\n",
       "      <td>-1.882111</td>\n",
       "      <td>-2.571602</td>\n",
       "      <td>-0.920464</td>\n",
       "    </tr>\n",
       "    <tr>\n",
       "      <th>25%</th>\n",
       "      <td>0.0</td>\n",
       "      <td>939.750000</td>\n",
       "      <td>-0.588911</td>\n",
       "      <td>-0.361057</td>\n",
       "      <td>-0.671067</td>\n",
       "      <td>-0.615620</td>\n",
       "      <td>-0.589698</td>\n",
       "      <td>-0.484050</td>\n",
       "      <td>-0.645890</td>\n",
       "      <td>-0.882939</td>\n",
       "      <td>...</td>\n",
       "      <td>-0.625897</td>\n",
       "      <td>-1.095620</td>\n",
       "      <td>-0.673929</td>\n",
       "      <td>-1.220772</td>\n",
       "      <td>-1.060166</td>\n",
       "      <td>-0.485862</td>\n",
       "      <td>-1.087009</td>\n",
       "      <td>-0.840440</td>\n",
       "      <td>-0.830713</td>\n",
       "      <td>-0.586507</td>\n",
       "    </tr>\n",
       "    <tr>\n",
       "      <th>50%</th>\n",
       "      <td>0.0</td>\n",
       "      <td>1862.500000</td>\n",
       "      <td>-0.196341</td>\n",
       "      <td>0.287399</td>\n",
       "      <td>-0.011870</td>\n",
       "      <td>0.056080</td>\n",
       "      <td>-0.570096</td>\n",
       "      <td>-0.318824</td>\n",
       "      <td>-0.025785</td>\n",
       "      <td>-0.078193</td>\n",
       "      <td>...</td>\n",
       "      <td>-0.138020</td>\n",
       "      <td>0.912726</td>\n",
       "      <td>-0.268636</td>\n",
       "      <td>0.819155</td>\n",
       "      <td>0.941183</td>\n",
       "      <td>-0.285863</td>\n",
       "      <td>0.104928</td>\n",
       "      <td>-0.120518</td>\n",
       "      <td>0.133941</td>\n",
       "      <td>-0.309927</td>\n",
       "    </tr>\n",
       "    <tr>\n",
       "      <th>75%</th>\n",
       "      <td>0.0</td>\n",
       "      <td>2803.250000</td>\n",
       "      <td>0.348853</td>\n",
       "      <td>0.662158</td>\n",
       "      <td>0.615937</td>\n",
       "      <td>0.618766</td>\n",
       "      <td>0.314398</td>\n",
       "      <td>0.089569</td>\n",
       "      <td>0.619151</td>\n",
       "      <td>0.815703</td>\n",
       "      <td>...</td>\n",
       "      <td>0.821560</td>\n",
       "      <td>0.912726</td>\n",
       "      <td>0.381937</td>\n",
       "      <td>0.819155</td>\n",
       "      <td>0.941183</td>\n",
       "      <td>0.112935</td>\n",
       "      <td>1.296864</td>\n",
       "      <td>0.788396</td>\n",
       "      <td>0.813695</td>\n",
       "      <td>0.202692</td>\n",
       "    </tr>\n",
       "    <tr>\n",
       "      <th>max</th>\n",
       "      <td>0.0</td>\n",
       "      <td>3772.000000</td>\n",
       "      <td>5.679318</td>\n",
       "      <td>1.160428</td>\n",
       "      <td>3.503847</td>\n",
       "      <td>2.582596</td>\n",
       "      <td>6.938489</td>\n",
       "      <td>15.088372</td>\n",
       "      <td>2.668950</td>\n",
       "      <td>2.099965</td>\n",
       "      <td>...</td>\n",
       "      <td>3.309459</td>\n",
       "      <td>0.912726</td>\n",
       "      <td>6.669760</td>\n",
       "      <td>0.819155</td>\n",
       "      <td>0.941183</td>\n",
       "      <td>14.078161</td>\n",
       "      <td>1.296864</td>\n",
       "      <td>2.487832</td>\n",
       "      <td>2.392570</td>\n",
       "      <td>9.339707</td>\n",
       "    </tr>\n",
       "  </tbody>\n",
       "</table>\n",
       "<p>8 rows × 303 columns</p>\n",
       "</div>"
      ],
      "text/plain": [
       "       time_id  investment_id       target          f_0          f_1  \\\n",
       "count   2272.0    2272.000000  2272.000000  2272.000000  2272.000000   \n",
       "mean       0.0    1869.228873    -0.036879    -0.000384    -0.014136   \n",
       "std        0.0    1078.312362     0.923651     0.987634     0.992491   \n",
       "min        0.0       1.000000    -3.464680    -5.828757    -3.025342   \n",
       "25%        0.0     939.750000    -0.588911    -0.361057    -0.671067   \n",
       "50%        0.0    1862.500000    -0.196341     0.287399    -0.011870   \n",
       "75%        0.0    2803.250000     0.348853     0.662158     0.615937   \n",
       "max        0.0    3772.000000     5.679318     1.160428     3.503847   \n",
       "\n",
       "               f_2          f_3          f_4          f_5          f_6  ...  \\\n",
       "count  2272.000000  2272.000000  2272.000000  2272.000000  2272.000000  ...   \n",
       "mean      0.011063    -0.018266    -0.001832    -0.003481    -0.006037  ...   \n",
       "std       0.997750     0.940292     1.002012     0.993788     0.995930  ...   \n",
       "min      -1.994951    -0.688007    -0.678721    -2.553895    -2.318264  ...   \n",
       "25%      -0.615620    -0.589698    -0.484050    -0.645890    -0.882939  ...   \n",
       "50%       0.056080    -0.570096    -0.318824    -0.025785    -0.078193  ...   \n",
       "75%       0.618766     0.314398     0.089569     0.619151     0.815703  ...   \n",
       "max       2.582596     6.938489    15.088372     2.668950     2.099965  ...   \n",
       "\n",
       "             f_290        f_291        f_292        f_293        f_294  \\\n",
       "count  2272.000000  2272.000000  2272.000000  2272.000000  2272.000000   \n",
       "mean      0.008712    -0.002167    -0.013043    -0.006871     0.001719   \n",
       "std       0.985672     1.000417     0.980962     1.001577     0.999911   \n",
       "min      -4.073376    -1.095620    -1.394697    -1.220772    -1.477153   \n",
       "25%      -0.625897    -1.095620    -0.673929    -1.220772    -1.060166   \n",
       "50%      -0.138020     0.912726    -0.268636     0.819155     0.941183   \n",
       "75%       0.821560     0.912726     0.381937     0.819155     0.941183   \n",
       "max       3.309459     0.912726     6.669760     0.819155     0.941183   \n",
       "\n",
       "             f_295        f_296        f_297        f_298        f_299  \n",
       "count  2272.000000  2272.000000  2272.000000  2272.000000  2272.000000  \n",
       "mean     -0.019087     0.000528    -0.000938    -0.008388    -0.003732  \n",
       "std       0.906861     1.000962     0.996867     0.986711     0.988941  \n",
       "min      -0.743562    -1.087009    -1.882111    -2.571602    -0.920464  \n",
       "25%      -0.485862    -1.087009    -0.840440    -0.830713    -0.586507  \n",
       "50%      -0.285863     0.104928    -0.120518     0.133941    -0.309927  \n",
       "75%       0.112935     1.296864     0.788396     0.813695     0.202692  \n",
       "max      14.078161     1.296864     2.487832     2.392570     9.339707  \n",
       "\n",
       "[8 rows x 303 columns]"
      ]
     },
     "execution_count": 8,
     "metadata": {},
     "output_type": "execute_result"
    }
   ],
   "source": [
    "train_data_timeid0.describe()"
   ]
  },
  {
   "cell_type": "code",
   "execution_count": 9,
   "id": "8ccbee57",
   "metadata": {
    "execution": {
     "iopub.execute_input": "2022-01-22T17:48:08.746878Z",
     "iopub.status.busy": "2022-01-22T17:48:08.743764Z",
     "iopub.status.idle": "2022-01-22T17:48:09.031424Z",
     "shell.execute_reply": "2022-01-22T17:48:09.031913Z",
     "shell.execute_reply.started": "2022-01-22T17:41:22.250140Z"
    },
    "papermill": {
     "duration": 0.312753,
     "end_time": "2022-01-22T17:48:09.032121",
     "exception": false,
     "start_time": "2022-01-22T17:48:08.719368",
     "status": "completed"
    },
    "tags": []
   },
   "outputs": [
    {
     "data": {
      "text/plain": [
       "<AxesSubplot:xlabel='row_id'>"
      ]
     },
     "execution_count": 9,
     "metadata": {},
     "output_type": "execute_result"
    },
    {
     "data": {
      "image/png": "[encoded data removed]",
      "text/plain": [
       "<Figure size 1152x288 with 1 Axes>"
      ]
     },
     "metadata": {
      "needs_background": "light"
     },
     "output_type": "display_data"
    }
   ],
   "source": [
    "train_data_timeid0[\"target\"].plot(figsize=(16, 4))"
   ]
  },
  {
   "cell_type": "code",
   "execution_count": 10,
   "id": "4b0bfdad",
   "metadata": {
    "execution": {
     "iopub.execute_input": "2022-01-22T17:48:09.084942Z",
     "iopub.status.busy": "2022-01-22T17:48:09.084222Z",
     "iopub.status.idle": "2022-01-22T17:48:09.102284Z",
     "shell.execute_reply": "2022-01-22T17:48:09.101665Z",
     "shell.execute_reply.started": "2022-01-22T17:41:22.508962Z"
    },
    "papermill": {
     "duration": 0.045902,
     "end_time": "2022-01-22T17:48:09.102461",
     "exception": false,
     "start_time": "2022-01-22T17:48:09.056559",
     "status": "completed"
    },
    "tags": []
   },
   "outputs": [],
   "source": [
    "good_investments_timeid0 = train_data_timeid0[train_data_timeid0 >= 0.348853] #.dropna(subset=[\"target\"])"
   ]
  },
  {
   "cell_type": "code",
   "execution_count": 11,
   "id": "3b6e0c7a",
   "metadata": {
    "execution": {
     "iopub.execute_input": "2022-01-22T17:48:09.153768Z",
     "iopub.status.busy": "2022-01-22T17:48:09.153101Z",
     "iopub.status.idle": "2022-01-22T17:48:09.549357Z",
     "shell.execute_reply": "2022-01-22T17:48:09.549861Z",
     "shell.execute_reply.started": "2022-01-22T17:41:22.525401Z"
    },
    "papermill": {
     "duration": 0.423576,
     "end_time": "2022-01-22T17:48:09.550067",
     "exception": false,
     "start_time": "2022-01-22T17:48:09.126491",
     "status": "completed"
    },
    "tags": []
   },
   "outputs": [
    {
     "data": {
      "text/plain": [
       "<AxesSubplot:ylabel='Frequency'>"
      ]
     },
     "execution_count": 11,
     "metadata": {},
     "output_type": "execute_result"
    },
    {
     "data": {
      "image/png": "[encoded data removed]",
      "text/plain": [
       "<Figure size 432x288 with 1 Axes>"
      ]
     },
     "metadata": {
      "needs_background": "light"
     },
     "output_type": "display_data"
    }
   ],
   "source": [
    "good_investments_timeid0[\"target\"].plot.hist(bins=100)"
   ]
  },
  {
   "cell_type": "code",
   "execution_count": 12,
   "id": "bfa38070",
   "metadata": {
    "execution": {
     "iopub.execute_input": "2022-01-22T17:48:09.604581Z",
     "iopub.status.busy": "2022-01-22T17:48:09.603896Z",
     "iopub.status.idle": "2022-01-22T17:48:10.019249Z",
     "shell.execute_reply": "2022-01-22T17:48:10.019788Z",
     "shell.execute_reply.started": "2022-01-22T17:41:22.910650Z"
    },
    "papermill": {
     "duration": 0.446017,
     "end_time": "2022-01-22T17:48:10.019990",
     "exception": false,
     "start_time": "2022-01-22T17:48:09.573973",
     "status": "completed"
    },
    "tags": []
   },
   "outputs": [
    {
     "data": {
      "text/plain": [
       "<AxesSubplot:ylabel='Frequency'>"
      ]
     },
     "execution_count": 12,
     "metadata": {},
     "output_type": "execute_result"
    },
    {
     "data": {
      "image/png": "[encoded data removed]",
      "text/plain": [
       "<Figure size 432x288 with 1 Axes>"
      ]
     },
     "metadata": {
      "needs_background": "light"
     },
     "output_type": "display_data"
    }
   ],
   "source": [
    "train_data_timeid0[\"target\"].plot.hist(bins=100)"
   ]
  },
  {
   "cell_type": "markdown",
   "id": "5b33a0ab",
   "metadata": {
    "papermill": {
     "duration": 0.02481,
     "end_time": "2022-01-22T17:48:10.071354",
     "exception": false,
     "start_time": "2022-01-22T17:48:10.046544",
     "status": "completed"
    },
    "tags": []
   },
   "source": [
    "One obvious choice here would be to train a regression model."
   ]
  },
  {
   "cell_type": "code",
   "execution_count": 13,
   "id": "4de49b82",
   "metadata": {
    "execution": {
     "iopub.execute_input": "2022-01-22T17:48:10.126332Z",
     "iopub.status.busy": "2022-01-22T17:48:10.125582Z",
     "iopub.status.idle": "2022-01-22T17:48:16.794084Z",
     "shell.execute_reply": "2022-01-22T17:48:16.793353Z",
     "shell.execute_reply.started": "2022-01-22T17:41:23.451453Z"
    },
    "papermill": {
     "duration": 6.696836,
     "end_time": "2022-01-22T17:48:16.794244",
     "exception": false,
     "start_time": "2022-01-22T17:48:10.097408",
     "status": "completed"
    },
    "tags": []
   },
   "outputs": [],
   "source": [
    "import tensorflow as tf\n",
    "from tensorflow import keras\n",
    "from tensorflow.keras import layers\n",
    "\n",
    "def build_model():\n",
    "    model = keras.Sequential([\n",
    "        layers.Dense(64, activation='relu', input_shape=[len(train_dataset.keys())]),\n",
    "        layers.Dense(64, activation='relu'),\n",
    "        layers.Dense(1)\n",
    "    ])\n",
    "    optimizer = tf.keras.optimizers.RMSprop(0.001)\n",
    "    model.compile(loss='mse',\n",
    "    optimizer=optimizer,\n",
    "    metrics=['mae', 'mse'])\n",
    "    return model"
   ]
  },
  {
   "cell_type": "code",
   "execution_count": 14,
   "id": "c22d1170",
   "metadata": {
    "execution": {
     "iopub.execute_input": "2022-01-22T17:48:16.849588Z",
     "iopub.status.busy": "2022-01-22T17:48:16.848916Z",
     "iopub.status.idle": "2022-01-22T17:48:16.852415Z",
     "shell.execute_reply": "2022-01-22T17:48:16.852989Z",
     "shell.execute_reply.started": "2022-01-22T17:41:28.415264Z"
    },
    "papermill": {
     "duration": 0.033831,
     "end_time": "2022-01-22T17:48:16.853150",
     "exception": false,
     "start_time": "2022-01-22T17:48:16.819319",
     "status": "completed"
    },
    "tags": []
   },
   "outputs": [
    {
     "data": {
      "text/plain": [
       "Index(['time_id', 'investment_id', 'target', 'f_0', 'f_1', 'f_2', 'f_3', 'f_4',\n",
       "       'f_5', 'f_6',\n",
       "       ...\n",
       "       'f_290', 'f_291', 'f_292', 'f_293', 'f_294', 'f_295', 'f_296', 'f_297',\n",
       "       'f_298', 'f_299'],\n",
       "      dtype='object', length=303)"
      ]
     },
     "execution_count": 14,
     "metadata": {},
     "output_type": "execute_result"
    }
   ],
   "source": [
    "train_data.columns"
   ]
  },
  {
   "cell_type": "code",
   "execution_count": 15,
   "id": "ce8acb3d",
   "metadata": {
    "execution": {
     "iopub.execute_input": "2022-01-22T17:48:16.907030Z",
     "iopub.status.busy": "2022-01-22T17:48:16.906378Z",
     "iopub.status.idle": "2022-01-22T17:48:16.909708Z",
     "shell.execute_reply": "2022-01-22T17:48:16.909051Z",
     "shell.execute_reply.started": "2022-01-22T17:41:28.422559Z"
    },
    "papermill": {
     "duration": 0.032301,
     "end_time": "2022-01-22T17:48:16.909877",
     "exception": false,
     "start_time": "2022-01-22T17:48:16.877576",
     "status": "completed"
    },
    "tags": []
   },
   "outputs": [],
   "source": [
    "no_train_xmpls = int(len(train_data) * 0.4)"
   ]
  },
  {
   "cell_type": "code",
   "execution_count": 16,
   "id": "ec298b50",
   "metadata": {
    "execution": {
     "iopub.execute_input": "2022-01-22T17:48:16.966079Z",
     "iopub.status.busy": "2022-01-22T17:48:16.965433Z",
     "iopub.status.idle": "2022-01-22T17:48:17.091595Z",
     "shell.execute_reply": "2022-01-22T17:48:17.092102Z",
     "shell.execute_reply.started": "2022-01-22T17:41:28.432306Z"
    },
    "papermill": {
     "duration": 0.15749,
     "end_time": "2022-01-22T17:48:17.092287",
     "exception": false,
     "start_time": "2022-01-22T17:48:16.934797",
     "status": "completed"
    },
    "tags": []
   },
   "outputs": [],
   "source": [
    "train_dataset_full = train_data.set_index(\"investment_id\")\n",
    "train_dataset = train_dataset_full.loc[train_dataset_full.index[:no_train_xmpls]].drop(columns=[\"time_id\", \"target\"])\n",
    "train_labels = train_dataset_full.loc[train_dataset_full.index[:no_train_xmpls]][\"target\"]"
   ]
  },
  {
   "cell_type": "code",
   "execution_count": 17,
   "id": "0931925a",
   "metadata": {
    "execution": {
     "iopub.execute_input": "2022-01-22T17:48:17.159275Z",
     "iopub.status.busy": "2022-01-22T17:48:17.157435Z",
     "iopub.status.idle": "2022-01-22T17:48:17.257592Z",
     "shell.execute_reply": "2022-01-22T17:48:17.256979Z",
     "shell.execute_reply.started": "2022-01-22T17:41:31.083861Z"
    },
    "papermill": {
     "duration": 0.139663,
     "end_time": "2022-01-22T17:48:17.257735",
     "exception": false,
     "start_time": "2022-01-22T17:48:17.118072",
     "status": "completed"
    },
    "tags": []
   },
   "outputs": [],
   "source": [
    "test_dataset = train_dataset_full.loc[train_dataset_full.index[no_train_xmpls: 2*no_train_xmpls]].drop(columns=[\"time_id\", \"target\"])\n",
    "test_labels = train_dataset_full.loc[train_dataset_full.index[no_train_xmpls: 2*no_train_xmpls]][\"target\"]"
   ]
  },
  {
   "cell_type": "code",
   "execution_count": 18,
   "id": "ce85efae",
   "metadata": {
    "execution": {
     "iopub.execute_input": "2022-01-22T17:48:17.313646Z",
     "iopub.status.busy": "2022-01-22T17:48:17.312691Z",
     "iopub.status.idle": "2022-01-22T17:51:42.219320Z",
     "shell.execute_reply": "2022-01-22T17:51:42.218267Z",
     "shell.execute_reply.started": "2022-01-22T17:41:42.476719Z"
    },
    "papermill": {
     "duration": 204.936968,
     "end_time": "2022-01-22T17:51:42.219513",
     "exception": false,
     "start_time": "2022-01-22T17:48:17.282545",
     "status": "completed"
    },
    "tags": []
   },
   "outputs": [
    {
     "name": "stderr",
     "output_type": "stream",
     "text": [
      "\n",
      "User settings:\n",
      "\n",
      "   KMP_AFFINITY=granularity=fine,verbose,compact,1,0\n",
      "   KMP_BLOCKTIME=0\n",
      "   KMP_SETTINGS=1\n",
      "   KMP_WARNINGS=0\n",
      "\n",
      "Effective settings:\n",
      "\n",
      "   KMP_ABORT_DELAY=0\n",
      "   KMP_ADAPTIVE_LOCK_PROPS='1,1024'\n",
      "   KMP_ALIGN_ALLOC=64\n",
      "   KMP_ALL_THREADPRIVATE=128\n",
      "   KMP_ATOMIC_MODE=2\n",
      "   KMP_BLOCKTIME=0\n",
      "   KMP_CPUINFO_FILE: value is not defined\n",
      "   KMP_DETERMINISTIC_REDUCTION=false\n",
      "   KMP_DEVICE_THREAD_LIMIT=2147483647\n",
      "   KMP_DISP_NUM_BUFFERS=7\n",
      "   KMP_DUPLICATE_LIB_OK=false\n",
      "   KMP_ENABLE_TASK_THROTTLING=true\n",
      "   KMP_FORCE_REDUCTION: value is not defined\n",
      "   KMP_FOREIGN_THREADS_THREADPRIVATE=true\n",
      "   KMP_FORKJOIN_BARRIER='2,2'\n",
      "   KMP_FORKJOIN_BARRIER_PATTERN='hyper,hyper'\n",
      "   KMP_GTID_MODE=3\n",
      "   KMP_HANDLE_SIGNALS=false\n",
      "   KMP_HOT_TEAMS_MAX_LEVEL=1\n",
      "   KMP_HOT_TEAMS_MODE=0\n",
      "   KMP_INIT_AT_FORK=true\n",
      "   KMP_LIBRARY=throughput\n",
      "   KMP_LOCK_KIND=queuing\n",
      "   KMP_MALLOC_POOL_INCR=1M\n",
      "   KMP_NUM_LOCKS_IN_BLOCK=1\n",
      "   KMP_PLAIN_BARRIER='2,2'\n",
      "   KMP_PLAIN_BARRIER_PATTERN='hyper,hyper'\n",
      "   KMP_REDUCTION_BARRIER='1,1'\n",
      "   KMP_REDUCTION_BARRIER_PATTERN='hyper,hyper'\n",
      "   KMP_SCHEDULE='static,balanced;guided,iterative'\n",
      "   KMP_SETTINGS=true\n",
      "   KMP_SPIN_BACKOFF_PARAMS='4096,100'\n",
      "   KMP_STACKOFFSET=64\n",
      "   KMP_STACKPAD=0\n",
      "   KMP_STACKSIZE=8M\n",
      "   KMP_STORAGE_MAP=false\n",
      "   KMP_TASKING=2\n",
      "   KMP_TASKLOOP_MIN_TASKS=0\n",
      "   KMP_TASK_STEALING_CONSTRAINT=1\n",
      "   KMP_TEAMS_THREAD_LIMIT=4\n",
      "   KMP_TOPOLOGY_METHOD=all\n",
      "   KMP_USE_YIELD=1\n",
      "   KMP_VERSION=false\n",
      "   KMP_WARNINGS=false\n",
      "   OMP_AFFINITY_FORMAT='OMP: pid %P tid %i thread %n bound to OS proc set {%A}'\n",
      "   OMP_ALLOCATOR=omp_default_mem_alloc\n",
      "   OMP_CANCELLATION=false\n",
      "   OMP_DEFAULT_DEVICE=0\n",
      "   OMP_DISPLAY_AFFINITY=false\n",
      "   OMP_DISPLAY_ENV=false\n",
      "   OMP_DYNAMIC=false\n",
      "   OMP_MAX_ACTIVE_LEVELS=1\n",
      "   OMP_MAX_TASK_PRIORITY=0\n",
      "   OMP_NESTED: deprecated; max-active-levels-var=1\n",
      "   OMP_NUM_THREADS: value is not defined\n",
      "   OMP_PLACES: value is not defined\n",
      "   OMP_PROC_BIND='intel'\n",
      "   OMP_SCHEDULE='static'\n",
      "   OMP_STACKSIZE=8M\n",
      "   OMP_TARGET_OFFLOAD=DEFAULT\n",
      "   OMP_THREAD_LIMIT=2147483647\n",
      "   OMP_WAIT_POLICY=PASSIVE\n",
      "   KMP_AFFINITY='verbose,warnings,respect,granularity=fine,compact,1,0'\n",
      "\n",
      "2022-01-22 17:48:17.356160: I tensorflow/core/common_runtime/process_util.cc:146] Creating new thread pool with default inter op setting: 2. Tune using inter_op_parallelism_threads for best performance.\n",
      "2022-01-22 17:48:17.609037: I tensorflow/compiler/mlir/mlir_graph_optimization_pass.cc:185] None of the MLIR Optimization Passes are enabled (registered 2)\n"
     ]
    },
    {
     "name": "stdout",
     "output_type": "stream",
     "text": [
      "Epoch 1/100\n",
      "551/551 [==============================] - 2s 3ms/step - loss: 0.8089 - mae: 0.6363 - mse: 0.8089\n",
      "Epoch 2/100\n",
      "551/551 [==============================] - 1s 3ms/step - loss: 0.6886 - mae: 0.5832 - mse: 0.6886\n",
      "Epoch 3/100\n",
      "551/551 [==============================] - 1s 3ms/step - loss: 0.6073 - mae: 0.5487 - mse: 0.6073\n",
      "Epoch 4/100\n",
      "551/551 [==============================] - 1s 2ms/step - loss: 0.5362 - mae: 0.5190 - mse: 0.5362\n",
      "Epoch 5/100\n",
      "551/551 [==============================] - 1s 2ms/step - loss: 0.4747 - mae: 0.4890 - mse: 0.4747\n",
      "Epoch 6/100\n",
      "551/551 [==============================] - 1s 3ms/step - loss: 0.4223 - mae: 0.4653 - mse: 0.4223\n",
      "Epoch 7/100\n",
      "551/551 [==============================] - 2s 3ms/step - loss: 0.3709 - mae: 0.4379 - mse: 0.3709\n",
      "Epoch 8/100\n",
      "551/551 [==============================] - 2s 3ms/step - loss: 0.3300 - mae: 0.4158 - mse: 0.3300\n",
      "Epoch 9/100\n",
      "551/551 [==============================] - 1s 2ms/step - loss: 0.2946 - mae: 0.3937 - mse: 0.2946\n",
      "Epoch 10/100\n",
      "551/551 [==============================] - 1s 3ms/step - loss: 0.2718 - mae: 0.3809 - mse: 0.2718\n",
      "Epoch 11/100\n",
      "551/551 [==============================] - 1s 3ms/step - loss: 0.2442 - mae: 0.3609 - mse: 0.2442\n",
      "Epoch 12/100\n",
      "551/551 [==============================] - 1s 2ms/step - loss: 0.2229 - mae: 0.3480 - mse: 0.2229\n",
      "Epoch 13/100\n",
      "551/551 [==============================] - 2s 3ms/step - loss: 0.2068 - mae: 0.3343 - mse: 0.2068\n",
      "Epoch 14/100\n",
      "551/551 [==============================] - 1s 3ms/step - loss: 0.1899 - mae: 0.3211 - mse: 0.1899\n",
      "Epoch 15/100\n",
      "551/551 [==============================] - 1s 3ms/step - loss: 0.1745 - mae: 0.3089 - mse: 0.1745\n",
      "Epoch 16/100\n",
      "551/551 [==============================] - 1s 2ms/step - loss: 0.1645 - mae: 0.2983 - mse: 0.1645\n",
      "Epoch 17/100\n",
      "551/551 [==============================] - 1s 3ms/step - loss: 0.1503 - mae: 0.2874 - mse: 0.1503\n",
      "Epoch 18/100\n",
      "551/551 [==============================] - 1s 3ms/step - loss: 0.1438 - mae: 0.2829 - mse: 0.1438\n",
      "Epoch 19/100\n",
      "551/551 [==============================] - 1s 3ms/step - loss: 0.1334 - mae: 0.2724 - mse: 0.1334\n",
      "Epoch 20/100\n",
      "551/551 [==============================] - 1s 3ms/step - loss: 0.1293 - mae: 0.2679 - mse: 0.1293\n",
      "Epoch 21/100\n",
      "551/551 [==============================] - 2s 3ms/step - loss: 0.1215 - mae: 0.2605 - mse: 0.1215\n",
      "Epoch 22/100\n",
      "551/551 [==============================] - 1s 3ms/step - loss: 0.1149 - mae: 0.2538 - mse: 0.1149\n",
      "Epoch 23/100\n",
      "551/551 [==============================] - 1s 3ms/step - loss: 0.1112 - mae: 0.2486 - mse: 0.1112\n",
      "Epoch 24/100\n",
      "551/551 [==============================] - 1s 2ms/step - loss: 0.1059 - mae: 0.2447 - mse: 0.1059\n",
      "Epoch 25/100\n",
      "551/551 [==============================] - 1s 2ms/step - loss: 0.1035 - mae: 0.2393 - mse: 0.1035\n",
      "Epoch 26/100\n",
      "551/551 [==============================] - 1s 2ms/step - loss: 0.0998 - mae: 0.2373 - mse: 0.0998\n",
      "Epoch 27/100\n",
      "551/551 [==============================] - 1s 3ms/step - loss: 0.0949 - mae: 0.2300 - mse: 0.0949\n",
      "Epoch 28/100\n",
      "551/551 [==============================] - 1s 2ms/step - loss: 0.0923 - mae: 0.2265 - mse: 0.0923\n",
      "Epoch 29/100\n",
      "551/551 [==============================] - 1s 3ms/step - loss: 0.0898 - mae: 0.2242 - mse: 0.0898\n",
      "Epoch 30/100\n",
      "551/551 [==============================] - 2s 3ms/step - loss: 0.0851 - mae: 0.2185 - mse: 0.0851\n",
      "Epoch 31/100\n",
      "551/551 [==============================] - 1s 3ms/step - loss: 0.0821 - mae: 0.2161 - mse: 0.0821\n",
      "Epoch 32/100\n",
      "551/551 [==============================] - 1s 2ms/step - loss: 0.0821 - mae: 0.2132 - mse: 0.0821\n",
      "Epoch 33/100\n",
      "551/551 [==============================] - 1s 2ms/step - loss: 0.0772 - mae: 0.2097 - mse: 0.0772\n",
      "Epoch 34/100\n",
      "551/551 [==============================] - 1s 3ms/step - loss: 0.0747 - mae: 0.2057 - mse: 0.0747\n",
      "Epoch 35/100\n",
      "551/551 [==============================] - 1s 3ms/step - loss: 0.0735 - mae: 0.2034 - mse: 0.0735\n",
      "Epoch 36/100\n",
      "551/551 [==============================] - 1s 3ms/step - loss: 0.0721 - mae: 0.2017 - mse: 0.0721\n",
      "Epoch 37/100\n",
      "551/551 [==============================] - 1s 3ms/step - loss: 0.0697 - mae: 0.1982 - mse: 0.0697\n",
      "Epoch 38/100\n",
      "551/551 [==============================] - 1s 2ms/step - loss: 0.0688 - mae: 0.1964 - mse: 0.0688\n",
      "Epoch 39/100\n",
      "551/551 [==============================] - 1s 2ms/step - loss: 0.0674 - mae: 0.1949 - mse: 0.0674\n",
      "Epoch 40/100\n",
      "551/551 [==============================] - 1s 3ms/step - loss: 0.0656 - mae: 0.1920 - mse: 0.0656\n",
      "Epoch 41/100\n",
      "551/551 [==============================] - 1s 3ms/step - loss: 0.0635 - mae: 0.1902 - mse: 0.0635\n",
      "Epoch 42/100\n",
      "551/551 [==============================] - 1s 3ms/step - loss: 0.0622 - mae: 0.1880 - mse: 0.0622\n",
      "Epoch 43/100\n",
      "551/551 [==============================] - 1s 3ms/step - loss: 0.0609 - mae: 0.1857 - mse: 0.0609\n",
      "Epoch 44/100\n",
      "551/551 [==============================] - 1s 3ms/step - loss: 0.0601 - mae: 0.1848 - mse: 0.0601\n",
      "Epoch 45/100\n",
      "551/551 [==============================] - 2s 3ms/step - loss: 0.0584 - mae: 0.1828 - mse: 0.0584\n",
      "Epoch 46/100\n",
      "551/551 [==============================] - 1s 3ms/step - loss: 0.0574 - mae: 0.1800 - mse: 0.0574\n",
      "Epoch 47/100\n",
      "551/551 [==============================] - 1s 2ms/step - loss: 0.0572 - mae: 0.1801 - mse: 0.0572\n",
      "Epoch 48/100\n",
      "551/551 [==============================] - 1s 2ms/step - loss: 0.0550 - mae: 0.1766 - mse: 0.0550\n",
      "Epoch 49/100\n",
      "551/551 [==============================] - 1s 3ms/step - loss: 0.0540 - mae: 0.1749 - mse: 0.0540\n",
      "Epoch 50/100\n",
      "551/551 [==============================] - 1s 2ms/step - loss: 0.0528 - mae: 0.1726 - mse: 0.0528\n",
      "Epoch 51/100\n",
      "551/551 [==============================] - 1s 2ms/step - loss: 0.0517 - mae: 0.1719 - mse: 0.0517\n",
      "Epoch 52/100\n",
      "551/551 [==============================] - 2s 3ms/step - loss: 0.0518 - mae: 0.1710 - mse: 0.0518\n",
      "Epoch 53/100\n",
      "551/551 [==============================] - 2s 3ms/step - loss: 0.0499 - mae: 0.1681 - mse: 0.0499\n",
      "Epoch 54/100\n",
      "551/551 [==============================] - 1s 3ms/step - loss: 0.0490 - mae: 0.1670 - mse: 0.0490\n",
      "Epoch 55/100\n",
      "551/551 [==============================] - 1s 3ms/step - loss: 0.0500 - mae: 0.1687 - mse: 0.0500\n",
      "Epoch 56/100\n",
      "551/551 [==============================] - 1s 3ms/step - loss: 0.0479 - mae: 0.1645 - mse: 0.0479\n",
      "Epoch 57/100\n",
      "551/551 [==============================] - 1s 2ms/step - loss: 0.0467 - mae: 0.1627 - mse: 0.0467\n",
      "Epoch 58/100\n",
      "551/551 [==============================] - 1s 2ms/step - loss: 0.0462 - mae: 0.1615 - mse: 0.0462\n",
      "Epoch 59/100\n",
      "551/551 [==============================] - 1s 2ms/step - loss: 0.0451 - mae: 0.1605 - mse: 0.0451\n",
      "Epoch 60/100\n",
      "551/551 [==============================] - 1s 3ms/step - loss: 0.0449 - mae: 0.1588 - mse: 0.0449\n",
      "Epoch 61/100\n",
      "551/551 [==============================] - 1s 3ms/step - loss: 0.0436 - mae: 0.1582 - mse: 0.0436\n",
      "Epoch 62/100\n",
      "551/551 [==============================] - 1s 2ms/step - loss: 0.0438 - mae: 0.1572 - mse: 0.0438\n",
      "Epoch 63/100\n",
      "551/551 [==============================] - 1s 3ms/step - loss: 0.0441 - mae: 0.1575 - mse: 0.0441\n",
      "Epoch 64/100\n",
      "551/551 [==============================] - 2s 3ms/step - loss: 0.0423 - mae: 0.1557 - mse: 0.0423\n",
      "Epoch 65/100\n",
      "551/551 [==============================] - 1s 3ms/step - loss: 0.0412 - mae: 0.1532 - mse: 0.0412\n",
      "Epoch 66/100\n",
      "551/551 [==============================] - 1s 2ms/step - loss: 0.0417 - mae: 0.1535 - mse: 0.0417\n",
      "Epoch 67/100\n",
      "551/551 [==============================] - 1s 3ms/step - loss: 0.0403 - mae: 0.1518 - mse: 0.0403\n",
      "Epoch 68/100\n",
      "551/551 [==============================] - 1s 3ms/step - loss: 0.0401 - mae: 0.1517 - mse: 0.0401\n",
      "Epoch 69/100\n",
      "551/551 [==============================] - 1s 3ms/step - loss: 0.0402 - mae: 0.1509 - mse: 0.0402\n",
      "Epoch 70/100\n",
      "551/551 [==============================] - 1s 3ms/step - loss: 0.0382 - mae: 0.1480 - mse: 0.0382\n",
      "Epoch 71/100\n",
      "551/551 [==============================] - 1s 2ms/step - loss: 0.0381 - mae: 0.1477 - mse: 0.0381\n",
      "Epoch 72/100\n",
      "551/551 [==============================] - 1s 3ms/step - loss: 0.0384 - mae: 0.1476 - mse: 0.0384\n",
      "Epoch 73/100\n",
      "551/551 [==============================] - 1s 3ms/step - loss: 0.0378 - mae: 0.1468 - mse: 0.0378\n",
      "Epoch 74/100\n",
      "551/551 [==============================] - 1s 3ms/step - loss: 0.0369 - mae: 0.1444 - mse: 0.0369\n",
      "Epoch 75/100\n",
      "551/551 [==============================] - 2s 4ms/step - loss: 0.0361 - mae: 0.1438 - mse: 0.0361\n",
      "Epoch 76/100\n",
      "551/551 [==============================] - 1s 3ms/step - loss: 0.0365 - mae: 0.1441 - mse: 0.0365\n",
      "Epoch 77/100\n",
      "551/551 [==============================] - 1s 3ms/step - loss: 0.0349 - mae: 0.1414 - mse: 0.0349\n",
      "Epoch 78/100\n",
      "551/551 [==============================] - 1s 3ms/step - loss: 0.0356 - mae: 0.1421 - mse: 0.0356\n",
      "Epoch 79/100\n",
      "551/551 [==============================] - 1s 2ms/step - loss: 0.0349 - mae: 0.1407 - mse: 0.0349\n",
      "Epoch 80/100\n",
      "551/551 [==============================] - 1s 3ms/step - loss: 0.0341 - mae: 0.1385 - mse: 0.0341\n",
      "Epoch 81/100\n",
      "551/551 [==============================] - 2s 3ms/step - loss: 0.0338 - mae: 0.1387 - mse: 0.0338\n",
      "Epoch 82/100\n",
      "551/551 [==============================] - 1s 3ms/step - loss: 0.0339 - mae: 0.1390 - mse: 0.0339\n",
      "Epoch 83/100\n",
      "551/551 [==============================] - 2s 3ms/step - loss: 0.0332 - mae: 0.1374 - mse: 0.0332\n",
      "Epoch 84/100\n",
      "551/551 [==============================] - 2s 3ms/step - loss: 0.0329 - mae: 0.1378 - mse: 0.0329\n",
      "Epoch 85/100\n",
      "551/551 [==============================] - 2s 3ms/step - loss: 0.0320 - mae: 0.1356 - mse: 0.0320\n",
      "Epoch 86/100\n",
      "551/551 [==============================] - 2s 3ms/step - loss: 0.0323 - mae: 0.1359 - mse: 0.0323\n",
      "Epoch 87/100\n",
      "551/551 [==============================] - 2s 3ms/step - loss: 0.0326 - mae: 0.1359 - mse: 0.0326\n",
      "Epoch 88/100\n",
      "551/551 [==============================] - 1s 2ms/step - loss: 0.0314 - mae: 0.1339 - mse: 0.0314\n",
      "Epoch 89/100\n",
      "551/551 [==============================] - 1s 3ms/step - loss: 0.0318 - mae: 0.1339 - mse: 0.0318\n",
      "Epoch 90/100\n",
      "551/551 [==============================] - 1s 3ms/step - loss: 0.0312 - mae: 0.1331 - mse: 0.0312\n",
      "Epoch 91/100\n",
      "551/551 [==============================] - 1s 3ms/step - loss: 0.0312 - mae: 0.1328 - mse: 0.0312\n",
      "Epoch 92/100\n",
      "551/551 [==============================] - 1s 3ms/step - loss: 0.0306 - mae: 0.1323 - mse: 0.0306\n",
      "Epoch 93/100\n",
      "551/551 [==============================] - 1s 3ms/step - loss: 0.0304 - mae: 0.1325 - mse: 0.0304\n",
      "Epoch 94/100\n",
      "551/551 [==============================] - 1s 3ms/step - loss: 0.0298 - mae: 0.1306 - mse: 0.0298\n",
      "Epoch 95/100\n",
      "551/551 [==============================] - 1s 2ms/step - loss: 0.0300 - mae: 0.1298 - mse: 0.0300\n",
      "Epoch 96/100\n",
      "551/551 [==============================] - 2s 3ms/step - loss: 0.0296 - mae: 0.1291 - mse: 0.0296\n",
      "Epoch 97/100\n",
      "551/551 [==============================] - 2s 3ms/step - loss: 0.0305 - mae: 0.1316 - mse: 0.0305\n",
      "Epoch 98/100\n",
      "551/551 [==============================] - 1s 3ms/step - loss: 0.0286 - mae: 0.1286 - mse: 0.0286\n",
      "Epoch 99/100\n",
      "551/551 [==============================] - 1s 3ms/step - loss: 0.0294 - mae: 0.1291 - mse: 0.0294\n",
      "Epoch 100/100\n",
      "551/551 [==============================] - 1s 3ms/step - loss: 0.0287 - mae: 0.1270 - mse: 0.0287\n",
      "551/551 [==============================] - 2s 3ms/step - loss: 0.0690 - mae: 0.1567 - mse: 0.0690\n"
     ]
    },
    {
     "data": {
      "text/plain": [
       "[0.06899005174636841, 0.15674757957458496, 0.06899005174636841]"
      ]
     },
     "execution_count": 18,
     "metadata": {},
     "output_type": "execute_result"
    }
   ],
   "source": [
    "model = build_model()\n",
    "\n",
    "model.fit(x=train_dataset, y=train_labels, epochs=100)\n",
    "\n",
    "model.evaluate(x=test_dataset, y=test_labels)"
   ]
  },
  {
   "cell_type": "code",
   "execution_count": null,
   "id": "00814c1e",
   "metadata": {
    "papermill": {
     "duration": 0.961656,
     "end_time": "2022-01-22T17:51:44.131239",
     "exception": false,
     "start_time": "2022-01-22T17:51:43.169583",
     "status": "completed"
    },
    "tags": []
   },
   "outputs": [],
   "source": []
  }
 ],
 "metadata": {
  "kernelspec": {
   "display_name": "Python 3",
   "language": "python",
   "name": "python3"
  },
  "language_info": {
   "codemirror_mode": {
    "name": "ipython",
    "version": 3
   },
   "file_extension": ".py",
   "mimetype": "text/x-python",
   "name": "python",
   "nbconvert_exporter": "python",
   "pygments_lexer": "ipython3",
   "version": "3.7.12"
  },
  "papermill": {
   "default_parameters": {},
   "duration": 233.08326,
   "end_time": "2022-01-22T17:51:48.305120",
   "environment_variables": {},
   "exception": null,
   "input_path": "__notebook__.ipynb",
   "output_path": "__notebook__.ipynb",
   "parameters": {},
   "start_time": "2022-01-22T17:47:55.221860",
   "version": "2.3.3"
  }
 },
 "nbformat": 4,
 "nbformat_minor": 5
}
